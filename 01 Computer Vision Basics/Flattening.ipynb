{
  "nbformat": 4,
  "nbformat_minor": 0,
  "metadata": {
    "colab": {
      "provenance": [],
      "include_colab_link": true
    },
    "kernelspec": {
      "name": "python3",
      "display_name": "Python 3"
    },
    "language_info": {
      "name": "python"
    }
  },
  "cells": [
    {
      "cell_type": "markdown",
      "metadata": {
        "id": "view-in-github",
        "colab_type": "text"
      },
      "source": [
        "<a href=\"https://colab.research.google.com/github/e-abtahi/Computer_Vision_Portfolio/blob/main/01_Computer_Vision_Basics/Flattening.ipynb\" target=\"_parent\"><img src=\"https://colab.research.google.com/assets/colab-badge.svg\" alt=\"Open In Colab\"/></a>"
      ]
    },
    {
      "cell_type": "markdown",
      "source": [
        "<h1><b>Flattening to a 1D Array\n",
        "\n",
        "\n",
        "\n"
      ],
      "metadata": {
        "id": "7uTs8uz0AVyt"
      }
    },
    {
      "cell_type": "markdown",
      "source": [
        "### <b> The Numpy Reshape Function</b>"
      ],
      "metadata": {
        "id": "iAXiLWG8F40b"
      }
    },
    {
      "cell_type": "code",
      "source": [
        "# Importing the Numpy library\n",
        "import numpy as np"
      ],
      "metadata": {
        "id": "YqQNMssddYV6"
      },
      "execution_count": 1,
      "outputs": []
    },
    {
      "cell_type": "code",
      "source": [
        "# Making a 3D array\n",
        "array = np.array([[[ 0,  1,  2,  3],\n",
        "        [ 4,  5,  6,  7],\n",
        "        [ 8,  9, 10, 11]],\n",
        "\n",
        "       [[12, 13, 14, 15],\n",
        "        [16, 17, 18, 19],\n",
        "        [20, 21, 22, 23]],\n",
        "\n",
        "       [[24, 25, 26, 27],\n",
        "        [28, 29, 30, 31],\n",
        "        [32, 33, 34, 35]]])"
      ],
      "metadata": {
        "id": "F8sRWRDidSOz"
      },
      "execution_count": 2,
      "outputs": []
    },
    {
      "cell_type": "code",
      "source": [
        "array.shape"
      ],
      "metadata": {
        "colab": {
          "base_uri": "https://localhost:8080/"
        },
        "id": "SoRK5eCJlwHA",
        "outputId": "8958e375-d6f8-4663-c5af-9a52aae8bb10"
      },
      "execution_count": 3,
      "outputs": [
        {
          "output_type": "execute_result",
          "data": {
            "text/plain": [
              "(3, 3, 4)"
            ]
          },
          "metadata": {},
          "execution_count": 3
        }
      ]
    },
    {
      "cell_type": "markdown",
      "source": [
        "*   As we see above, this is a 3D array of shape **(3,3,4)**.\n",
        "*   Here, the height and width are 3 each, and the number of channels is 4.\n",
        "*   So the total number of units = 3x3x4 = **36**\n",
        "\n",
        "Hence, we will now reshape the array to a 1D array of shape **(36,1).**"
      ],
      "metadata": {
        "id": "mfNEc4uB0KG0"
      }
    },
    {
      "cell_type": "code",
      "source": [
        "reshaped_array = array.reshape((36,1))\n",
        "reshaped_array"
      ],
      "metadata": {
        "colab": {
          "base_uri": "https://localhost:8080/"
        },
        "id": "2GNVh-nT1IwF",
        "outputId": "3053bdee-5dac-4ed4-b0c0-02d2fef06fe2"
      },
      "execution_count": 4,
      "outputs": [
        {
          "output_type": "execute_result",
          "data": {
            "text/plain": [
              "array([[ 0],\n",
              "       [ 1],\n",
              "       [ 2],\n",
              "       [ 3],\n",
              "       [ 4],\n",
              "       [ 5],\n",
              "       [ 6],\n",
              "       [ 7],\n",
              "       [ 8],\n",
              "       [ 9],\n",
              "       [10],\n",
              "       [11],\n",
              "       [12],\n",
              "       [13],\n",
              "       [14],\n",
              "       [15],\n",
              "       [16],\n",
              "       [17],\n",
              "       [18],\n",
              "       [19],\n",
              "       [20],\n",
              "       [21],\n",
              "       [22],\n",
              "       [23],\n",
              "       [24],\n",
              "       [25],\n",
              "       [26],\n",
              "       [27],\n",
              "       [28],\n",
              "       [29],\n",
              "       [30],\n",
              "       [31],\n",
              "       [32],\n",
              "       [33],\n",
              "       [34],\n",
              "       [35]])"
            ]
          },
          "metadata": {},
          "execution_count": 4
        }
      ]
    },
    {
      "cell_type": "code",
      "source": [
        "reshaped_array.shape"
      ],
      "metadata": {
        "colab": {
          "base_uri": "https://localhost:8080/"
        },
        "id": "jIHu1BUt1b9B",
        "outputId": "f7eccfb4-bc85-470a-e7b1-bc67f9520445"
      },
      "execution_count": 5,
      "outputs": [
        {
          "output_type": "execute_result",
          "data": {
            "text/plain": [
              "(36, 1)"
            ]
          },
          "metadata": {},
          "execution_count": 5
        }
      ]
    },
    {
      "cell_type": "markdown",
      "source": [
        "- We have hence **successfully reshaped the matrix to a 1D array.**\n",
        "\n",
        "- **This flattened 1D array** is the final structure that would be fed to the fully-connected portion of a Convolutional Neural Network, for image prediction tasks."
      ],
      "metadata": {
        "id": "yesAqHGcv2As"
      }
    }
  ]
}